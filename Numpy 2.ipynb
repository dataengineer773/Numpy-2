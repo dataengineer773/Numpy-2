{
 "cells": [
  {
   "cell_type": "markdown",
   "id": "26a9eacd",
   "metadata": {},
   "source": [
    "# Numpy\n",
    "\n",
    "[NumPy](https://numpy.org/) is the fundamental package for scientific computing with Python.\n",
    "\n",
    "### Installation:\n",
    "\n",
    "<div class=\"alert alert-block alert-warning\">\n",
    "$ pip install numpy\n",
    "</div>\n",
    "\n",
    "or\n",
    "\n",
    "<div class=\"alert alert-block alert-warning\">\n",
    "$ conda install numpy\n",
    "</div>"
   ]
  },
  {
   "cell_type": "code",
   "execution_count": 1,
   "id": "e4f00749",
   "metadata": {},
   "outputs": [
    {
     "name": "stdout",
     "output_type": "stream",
     "text": [
      "Requirement already satisfied: numpy in /Users/khamir/opt/miniconda3/lib/python3.9/site-packages (1.23.5)\r\n"
     ]
    }
   ],
   "source": [
    "! pip install numpy"
   ]
  },
  {
   "cell_type": "code",
   "execution_count": 1,
   "id": "6aa5b4ca",
   "metadata": {},
   "outputs": [],
   "source": [
    "import numpy as np"
   ]
  },
  {
   "cell_type": "code",
   "execution_count": 2,
   "id": "e782e717",
   "metadata": {},
   "outputs": [],
   "source": [
    "N = 1000000\n",
    "my_arr = np.arange(N)\n",
    "my_list = [i for i in range(N)]"
   ]
  },
  {
   "cell_type": "code",
   "execution_count": 3,
   "id": "db0df11b",
   "metadata": {},
   "outputs": [
    {
     "name": "stdout",
     "output_type": "stream",
     "text": [
      "CPU times: user 15.9 ms, sys: 11.6 ms, total: 27.5 ms\n",
      "Wall time: 27.6 ms\n"
     ]
    }
   ],
   "source": [
    "%time for _ in range(10): my_arr2 = 2*my_arr"
   ]
  },
  {
   "cell_type": "code",
   "execution_count": 4,
   "id": "20a49b5c",
   "metadata": {},
   "outputs": [
    {
     "name": "stdout",
     "output_type": "stream",
     "text": [
      "CPU times: user 310 ms, sys: 54.2 ms, total: 365 ms\n",
      "Wall time: 366 ms\n"
     ]
    }
   ],
   "source": [
    "%time for _ in range(10): my_list2 = [2*x for x in my_list]"
   ]
  },
  {
   "cell_type": "code",
   "execution_count": 5,
   "id": "3546de51",
   "metadata": {},
   "outputs": [
    {
     "data": {
      "text/plain": [
       "13.26086956521739"
      ]
     },
     "execution_count": 5,
     "metadata": {},
     "output_type": "execute_result"
    }
   ],
   "source": [
    "366/27.6"
   ]
  },
  {
   "cell_type": "markdown",
   "id": "b6df6023",
   "metadata": {},
   "source": [
    "## Basics:\n",
    "___\n",
    "\n",
    "One of the most commonly used functions of NumPy are *NumPy arrays*: The essential difference between lists and NumPy arrays is functionality and speed. lists give you basic operation, but NumPy adds FFTs, convolutions, fast searching, basic statistics, linear algebra, histograms, etc.\n",
    "\n",
    "The most important difference for data science is the ability to do **element-wise calculations** with *NumPy* arrays.\n",
    "\n",
    "`axis 0` always refers to row <br>\n",
    "`axis 1` always refers to column\n",
    "\n",
    "+ `np.array([1,2,3])`\n",
    "+ `np.array([(1,2,3),(4,5,6)])`\n",
    "+ `np.arange(start,stop,step)`\n",
    "\n",
    "**Placeholders**:\n",
    "- `np.linspace(0,2,9)`\n",
    "- `np.zeros((1,2))`\n",
    "- `np.ones((1,2))`\n",
    "- `np.random.random((5,5))`\n",
    "- `np.empty((2,2))`\n",
    "- `np.full((3, 3), 7)`"
   ]
  },
  {
   "cell_type": "code",
   "execution_count": 11,
   "id": "081c196b",
   "metadata": {},
   "outputs": [],
   "source": [
    "arr_1d = np.array([1, 2, 3, 4, 5])"
   ]
  },
  {
   "cell_type": "code",
   "execution_count": 10,
   "id": "b0149aa9",
   "metadata": {},
   "outputs": [
    {
     "data": {
      "text/plain": [
       "numpy.ndarray"
      ]
     },
     "execution_count": 10,
     "metadata": {},
     "output_type": "execute_result"
    }
   ],
   "source": [
    "type(arr_1d)"
   ]
  },
  {
   "cell_type": "code",
   "execution_count": 15,
   "id": "b18b14ee",
   "metadata": {},
   "outputs": [
    {
     "data": {
      "text/plain": [
       "(1, 4, 5, 4)"
      ]
     },
     "execution_count": 15,
     "metadata": {},
     "output_type": "execute_result"
    }
   ],
   "source": [
    "arr_1d[0], arr_1d[3], arr_1d[-1], arr_1d[-2]"
   ]
  },
  {
   "cell_type": "code",
   "execution_count": 25,
   "id": "110154c6",
   "metadata": {},
   "outputs": [],
   "source": [
    "arr_2d = np.array([[1, 2, 3, 4],\n",
    "                   [-1, 0, 1, 0]])"
   ]
  },
  {
   "cell_type": "code",
   "execution_count": 19,
   "id": "a451241c",
   "metadata": {},
   "outputs": [
    {
     "data": {
      "text/plain": [
       "(3, 3)"
      ]
     },
     "execution_count": 19,
     "metadata": {},
     "output_type": "execute_result"
    }
   ],
   "source": [
    "arr_2d[0][2], arr_2d[0, 2]"
   ]
  },
  {
   "cell_type": "code",
   "execution_count": 20,
   "id": "f9ca8583",
   "metadata": {},
   "outputs": [
    {
     "data": {
      "text/plain": [
       "(2, 4)"
      ]
     },
     "execution_count": 20,
     "metadata": {},
     "output_type": "execute_result"
    }
   ],
   "source": [
    "arr_2d.shape"
   ]
  },
  {
   "cell_type": "code",
   "execution_count": 21,
   "id": "23e2102c",
   "metadata": {},
   "outputs": [],
   "source": [
    "arr_3d = np.array([[[1, 2, 3, 4],\n",
    "                    [5, 6, 7, 8]],\n",
    "                   \n",
    "                   [[-1, -2, -3, -4],\n",
    "                    [-5, -6, -7, -8]],\n",
    "                   \n",
    "                   [[11, 12, 13, 14],\n",
    "                    [15, 16, 17, 18]]])"
   ]
  },
  {
   "cell_type": "code",
   "execution_count": 22,
   "id": "7c14c04c",
   "metadata": {},
   "outputs": [
    {
     "data": {
      "text/plain": [
       "(3, 2, 4)"
      ]
     },
     "execution_count": 22,
     "metadata": {},
     "output_type": "execute_result"
    }
   ],
   "source": [
    "arr_3d.shape"
   ]
  },
  {
   "cell_type": "code",
   "execution_count": 26,
   "id": "26c201a3",
   "metadata": {},
   "outputs": [
    {
     "data": {
      "text/plain": [
       "-3"
      ]
     },
     "execution_count": 26,
     "metadata": {},
     "output_type": "execute_result"
    }
   ],
   "source": [
    "arr_3d[1, 0, 2]"
   ]
  },
  {
   "cell_type": "code",
   "execution_count": 29,
   "id": "3f98c061",
   "metadata": {},
   "outputs": [
    {
     "data": {
      "text/plain": [
       "array([[11, 12, 13, 14],\n",
       "       [15, 16, 17, 18]])"
      ]
     },
     "execution_count": 29,
     "metadata": {},
     "output_type": "execute_result"
    }
   ],
   "source": [
    "arr_3d[2, :, :]"
   ]
  },
  {
   "cell_type": "code",
   "execution_count": 31,
   "id": "fd13cf07",
   "metadata": {},
   "outputs": [
    {
     "data": {
      "text/plain": [
       "array([[ 5,  6,  7,  8],\n",
       "       [-5, -6, -7, -8],\n",
       "       [15, 16, 17, 18]])"
      ]
     },
     "execution_count": 31,
     "metadata": {},
     "output_type": "execute_result"
    }
   ],
   "source": [
    "arr_3d[:, 1, :]"
   ]
  },
  {
   "cell_type": "code",
   "execution_count": 32,
   "id": "55edbe3e",
   "metadata": {},
   "outputs": [
    {
     "data": {
      "text/plain": [
       "array([[ 1,  5],\n",
       "       [-1, -5],\n",
       "       [11, 15]])"
      ]
     },
     "execution_count": 32,
     "metadata": {},
     "output_type": "execute_result"
    }
   ],
   "source": [
    "arr_3d[:, :, 0]"
   ]
  },
  {
   "cell_type": "code",
   "execution_count": 33,
   "id": "acfc97cf",
   "metadata": {},
   "outputs": [
    {
     "data": {
      "text/plain": [
       "array([0, 1, 2, 3, 4, 5, 6, 7, 8, 9])"
      ]
     },
     "execution_count": 33,
     "metadata": {},
     "output_type": "execute_result"
    }
   ],
   "source": [
    "np.arange(10)"
   ]
  },
  {
   "cell_type": "code",
   "execution_count": 34,
   "id": "b399ba99",
   "metadata": {},
   "outputs": [
    {
     "data": {
      "text/plain": [
       "array([2, 3, 4, 5, 6, 7, 8, 9])"
      ]
     },
     "execution_count": 34,
     "metadata": {},
     "output_type": "execute_result"
    }
   ],
   "source": [
    "np.arange(2, 10)"
   ]
  },
  {
   "cell_type": "code",
   "execution_count": 35,
   "id": "9ebed21b",
   "metadata": {},
   "outputs": [
    {
     "data": {
      "text/plain": [
       "array([2, 4, 6, 8])"
      ]
     },
     "execution_count": 35,
     "metadata": {},
     "output_type": "execute_result"
    }
   ],
   "source": [
    "np.arange(2, 10, 2)"
   ]
  },
  {
   "cell_type": "code",
   "execution_count": 38,
   "id": "59ac3557",
   "metadata": {},
   "outputs": [
    {
     "data": {
      "text/plain": [
       "array([-5.00000000e-01, -4.00000000e-01, -3.00000000e-01, -2.00000000e-01,\n",
       "       -1.00000000e-01, -1.11022302e-16,  1.00000000e-01,  2.00000000e-01,\n",
       "        3.00000000e-01,  4.00000000e-01,  5.00000000e-01,  6.00000000e-01,\n",
       "        7.00000000e-01,  8.00000000e-01,  9.00000000e-01,  1.00000000e+00])"
      ]
     },
     "execution_count": 38,
     "metadata": {},
     "output_type": "execute_result"
    }
   ],
   "source": [
    "np.arange(-0.5, 1.1, 0.1)"
   ]
  },
  {
   "cell_type": "code",
   "execution_count": 42,
   "id": "b55c88db",
   "metadata": {},
   "outputs": [
    {
     "data": {
      "text/plain": [
       "array([-0.5, -0.4, -0.3, -0.2, -0.1,  0. ,  0.1,  0.2,  0.3,  0.4,  0.5,\n",
       "        0.6,  0.7,  0.8,  0.9,  1. ])"
      ]
     },
     "execution_count": 42,
     "metadata": {},
     "output_type": "execute_result"
    }
   ],
   "source": [
    "np.linspace(-0.5, 1, 16)"
   ]
  },
  {
   "cell_type": "code",
   "execution_count": 49,
   "id": "c6772f77",
   "metadata": {},
   "outputs": [
    {
     "data": {
      "text/plain": [
       "array([[0., 0., 0.],\n",
       "       [0., 0., 0.],\n",
       "       [0., 0., 0.],\n",
       "       [0., 0., 0.]])"
      ]
     },
     "execution_count": 49,
     "metadata": {},
     "output_type": "execute_result"
    }
   ],
   "source": [
    "np.zeros((4, 3))"
   ]
  },
  {
   "cell_type": "code",
   "execution_count": 44,
   "id": "1fc0ced5",
   "metadata": {},
   "outputs": [
    {
     "data": {
      "text/plain": [
       "array([[1., 1., 1., 1., 1.],\n",
       "       [1., 1., 1., 1., 1.],\n",
       "       [1., 1., 1., 1., 1.]])"
      ]
     },
     "execution_count": 44,
     "metadata": {},
     "output_type": "execute_result"
    }
   ],
   "source": [
    "np.ones((3, 5))"
   ]
  },
  {
   "cell_type": "code",
   "execution_count": 45,
   "id": "0cf6bdc2",
   "metadata": {},
   "outputs": [
    {
     "data": {
      "text/plain": [
       "array([[-7, -7, -7, -7],\n",
       "       [-7, -7, -7, -7],\n",
       "       [-7, -7, -7, -7]])"
      ]
     },
     "execution_count": 45,
     "metadata": {},
     "output_type": "execute_result"
    }
   ],
   "source": [
    "np.full((3, 4), -7)"
   ]
  },
  {
   "cell_type": "code",
   "execution_count": 46,
   "id": "57cf083b",
   "metadata": {},
   "outputs": [
    {
     "data": {
      "text/plain": [
       "array([[1., 0., 0., 0., 0.],\n",
       "       [0., 1., 0., 0., 0.],\n",
       "       [0., 0., 1., 0., 0.],\n",
       "       [0., 0., 0., 1., 0.],\n",
       "       [0., 0., 0., 0., 1.]])"
      ]
     },
     "execution_count": 46,
     "metadata": {},
     "output_type": "execute_result"
    }
   ],
   "source": [
    "np.eye(5)"
   ]
  },
  {
   "cell_type": "code",
   "execution_count": 50,
   "id": "a9a87d00",
   "metadata": {},
   "outputs": [
    {
     "data": {
      "text/plain": [
       "array([[0.58903572, 0.78590464, 0.37887953, 0.87531792],\n",
       "       [0.16664414, 0.65922083, 0.67297589, 0.75300768],\n",
       "       [0.09754899, 0.57957748, 0.3717744 , 0.30291825],\n",
       "       [0.2485746 , 0.38851757, 0.83948559, 0.90271738]])"
      ]
     },
     "execution_count": 50,
     "metadata": {},
     "output_type": "execute_result"
    }
   ],
   "source": [
    "np.random.random((4, 4))"
   ]
  },
  {
   "cell_type": "code",
   "execution_count": 52,
   "id": "ab526a4d",
   "metadata": {},
   "outputs": [
    {
     "data": {
      "text/plain": [
       "array([[1.31999014, 2.47239128, 0.99578403, 1.26212999, 3.75389943],\n",
       "       [0.4924544 , 0.03912071, 1.02008476, 3.1409131 , 2.15497137]])"
      ]
     },
     "execution_count": 52,
     "metadata": {},
     "output_type": "execute_result"
    }
   ],
   "source": [
    "np.random.uniform(0, 4, (2, 5))"
   ]
  },
  {
   "cell_type": "code",
   "execution_count": 53,
   "id": "1e6a80ca",
   "metadata": {},
   "outputs": [
    {
     "data": {
      "text/plain": [
       "array([[-1.60075949,  2.92272174, -0.09821871],\n",
       "       [-1.42681597,  1.18025689,  0.53999068],\n",
       "       [-0.71931946, -0.04686306, -0.32423992]])"
      ]
     },
     "execution_count": 53,
     "metadata": {},
     "output_type": "execute_result"
    }
   ],
   "source": [
    "np.random.normal(0, 1, (3, 3))"
   ]
  },
  {
   "cell_type": "code",
   "execution_count": 62,
   "id": "05f42784",
   "metadata": {},
   "outputs": [
    {
     "data": {
      "text/plain": [
       "array([ 0, 17, 17, 16,  7, 18, 16,  1, 18, 18, 18,  4, 12,  1,  6,  7,  4,\n",
       "       16, 14, 15, 14, 16, 13,  3,  2,  6, 17,  9, 12, 17,  7,  6,  9, 12])"
      ]
     },
     "execution_count": 62,
     "metadata": {},
     "output_type": "execute_result"
    }
   ],
   "source": [
    "np.random.randint(0, 20, (34,))"
   ]
  },
  {
   "cell_type": "code",
   "execution_count": 34,
   "id": "f46ca02e",
   "metadata": {},
   "outputs": [],
   "source": [
    "# np.int8, np.int16, np.int32, np.int64\n",
    "# np.float16, np.float32, np.float64, np.float128\n",
    "# np.uint8, np.uint16, np.uint32, np.uint64"
   ]
  },
  {
   "cell_type": "code",
   "execution_count": 69,
   "id": "b9ec6c02",
   "metadata": {},
   "outputs": [],
   "source": [
    "b = np.random.randint(0, 20, (34,), dtype=np.uint8)"
   ]
  },
  {
   "cell_type": "code",
   "execution_count": 70,
   "id": "93ba8760",
   "metadata": {},
   "outputs": [
    {
     "data": {
      "text/plain": [
       "dtype('uint8')"
      ]
     },
     "execution_count": 70,
     "metadata": {},
     "output_type": "execute_result"
    }
   ],
   "source": [
    "b.dtype"
   ]
  },
  {
   "cell_type": "code",
   "execution_count": 41,
   "id": "f2c9c369",
   "metadata": {},
   "outputs": [],
   "source": [
    "m = np.random.randint(0, 10, (4, 4))"
   ]
  },
  {
   "cell_type": "code",
   "execution_count": 5,
   "id": "471f8016",
   "metadata": {},
   "outputs": [
    {
     "data": {
      "text/plain": [
       "array([[6, 1, 8, 4],\n",
       "       [2, 2, 3, 6],\n",
       "       [2, 1, 9, 4],\n",
       "       [7, 2, 2, 6]])"
      ]
     },
     "execution_count": 5,
     "metadata": {},
     "output_type": "execute_result"
    }
   ],
   "source": [
    "m"
   ]
  },
  {
   "cell_type": "code",
   "execution_count": 4,
   "id": "42d5fffe",
   "metadata": {},
   "outputs": [
    {
     "data": {
      "text/plain": [
       "array([[12,  2, 16,  8],\n",
       "       [ 4,  4,  6, 12],\n",
       "       [ 4,  2, 18,  8],\n",
       "       [14,  4,  4, 12]])"
      ]
     },
     "execution_count": 4,
     "metadata": {},
     "output_type": "execute_result"
    }
   ],
   "source": [
    "2*m"
   ]
  },
  {
   "cell_type": "code",
   "execution_count": 6,
   "id": "47b26cea",
   "metadata": {},
   "outputs": [
    {
     "data": {
      "text/plain": [
       "array([[36,  1, 64, 16],\n",
       "       [ 4,  4,  9, 36],\n",
       "       [ 4,  1, 81, 16],\n",
       "       [49,  4,  4, 36]])"
      ]
     },
     "execution_count": 6,
     "metadata": {},
     "output_type": "execute_result"
    }
   ],
   "source": [
    "m**2"
   ]
  },
  {
   "cell_type": "code",
   "execution_count": 7,
   "id": "5baf5d2e",
   "metadata": {},
   "outputs": [
    {
     "data": {
      "text/plain": [
       "array([[2.44948974, 1.        , 2.82842712, 2.        ],\n",
       "       [1.41421356, 1.41421356, 1.73205081, 2.44948974],\n",
       "       [1.41421356, 1.        , 3.        , 2.        ],\n",
       "       [2.64575131, 1.41421356, 1.41421356, 2.44948974]])"
      ]
     },
     "execution_count": 7,
     "metadata": {},
     "output_type": "execute_result"
    }
   ],
   "source": [
    "np.sqrt(m)"
   ]
  },
  {
   "cell_type": "code",
   "execution_count": 8,
   "id": "2452bee7",
   "metadata": {},
   "outputs": [
    {
     "data": {
      "text/plain": [
       "array([[ 64,   2, 256,  16],\n",
       "       [  4,   4,   8,  64],\n",
       "       [  4,   2, 512,  16],\n",
       "       [128,   4,   4,  64]])"
      ]
     },
     "execution_count": 8,
     "metadata": {},
     "output_type": "execute_result"
    }
   ],
   "source": [
    "2**m"
   ]
  },
  {
   "cell_type": "code",
   "execution_count": 10,
   "id": "fa8df004",
   "metadata": {},
   "outputs": [],
   "source": [
    "m1 = np.random.randint(0, 10, (4, 2))\n",
    "m2 = np.random.randint(0, 10, (2, 5))"
   ]
  },
  {
   "cell_type": "code",
   "execution_count": 13,
   "id": "b1c01f28",
   "metadata": {},
   "outputs": [
    {
     "data": {
      "text/plain": [
       "array([[12, 19,  3, 25, 17],\n",
       "       [24, 30,  6, 30,  6],\n",
       "       [ 0, 12,  0, 30, 42],\n",
       "       [ 0, 12,  0, 30, 42]])"
      ]
     },
     "execution_count": 13,
     "metadata": {},
     "output_type": "execute_result"
    }
   ],
   "source": [
    "np.dot(m1, m2)"
   ]
  },
  {
   "cell_type": "code",
   "execution_count": 14,
   "id": "6a82569e",
   "metadata": {},
   "outputs": [
    {
     "data": {
      "text/plain": [
       "array([[12, 19,  3, 25, 17],\n",
       "       [24, 30,  6, 30,  6],\n",
       "       [ 0, 12,  0, 30, 42],\n",
       "       [ 0, 12,  0, 30, 42]])"
      ]
     },
     "execution_count": 14,
     "metadata": {},
     "output_type": "execute_result"
    }
   ],
   "source": [
    "m1.dot(m2)"
   ]
  },
  {
   "cell_type": "code",
   "execution_count": 16,
   "id": "3239ec5c",
   "metadata": {},
   "outputs": [
    {
     "data": {
      "text/plain": [
       "array([[12, 19,  3, 25, 17],\n",
       "       [24, 30,  6, 30,  6],\n",
       "       [ 0, 12,  0, 30, 42],\n",
       "       [ 0, 12,  0, 30, 42]])"
      ]
     },
     "execution_count": 16,
     "metadata": {},
     "output_type": "execute_result"
    }
   ],
   "source": [
    "m1 @ m2 # the most efficient one"
   ]
  },
  {
   "cell_type": "code",
   "execution_count": 28,
   "id": "e8d94cdc",
   "metadata": {},
   "outputs": [],
   "source": [
    "s = np.eye(m.shape[0])\n",
    "\n",
    "for i in range(3): s = s @ m"
   ]
  },
  {
   "cell_type": "code",
   "execution_count": 29,
   "id": "96464b83",
   "metadata": {},
   "outputs": [
    {
     "data": {
      "text/plain": [
       "array([[1404.,  433., 2079., 1512.],\n",
       "       [1024.,  303., 1260., 1034.],\n",
       "       [1136.,  358., 1663., 1242.],\n",
       "       [1374.,  402., 1807., 1390.]])"
      ]
     },
     "execution_count": 29,
     "metadata": {},
     "output_type": "execute_result"
    }
   ],
   "source": [
    "s"
   ]
  },
  {
   "cell_type": "code",
   "execution_count": 31,
   "id": "8816d819",
   "metadata": {},
   "outputs": [
    {
     "data": {
      "text/plain": [
       "array([[1404,  433, 2079, 1512],\n",
       "       [1024,  303, 1260, 1034],\n",
       "       [1136,  358, 1663, 1242],\n",
       "       [1374,  402, 1807, 1390]])"
      ]
     },
     "execution_count": 31,
     "metadata": {},
     "output_type": "execute_result"
    }
   ],
   "source": [
    "np.linalg.matrix_power(m, 3)"
   ]
  },
  {
   "cell_type": "code",
   "execution_count": 19,
   "id": "c1b9f621",
   "metadata": {},
   "outputs": [
    {
     "data": {
      "text/plain": [
       "array([[2, 0, 6, 6],\n",
       "       [3, 6, 0, 0]])"
      ]
     },
     "execution_count": 19,
     "metadata": {},
     "output_type": "execute_result"
    }
   ],
   "source": [
    "m1.transpose()"
   ]
  },
  {
   "cell_type": "code",
   "execution_count": 20,
   "id": "d7fe14a1",
   "metadata": {},
   "outputs": [
    {
     "data": {
      "text/plain": [
       "array([[2, 0, 6, 6],\n",
       "       [3, 6, 0, 0]])"
      ]
     },
     "execution_count": 20,
     "metadata": {},
     "output_type": "execute_result"
    }
   ],
   "source": [
    "m1.T"
   ]
  },
  {
   "cell_type": "code",
   "execution_count": 21,
   "id": "f78ee753",
   "metadata": {},
   "outputs": [
    {
     "data": {
      "text/plain": [
       "23"
      ]
     },
     "execution_count": 21,
     "metadata": {},
     "output_type": "execute_result"
    }
   ],
   "source": [
    "np.trace(m)"
   ]
  },
  {
   "cell_type": "code",
   "execution_count": 32,
   "id": "fd983cc6",
   "metadata": {},
   "outputs": [
    {
     "data": {
      "text/plain": [
       "array([[6, 1, 8, 4],\n",
       "       [2, 2, 3, 6],\n",
       "       [2, 1, 9, 4],\n",
       "       [7, 2, 2, 6]])"
      ]
     },
     "execution_count": 32,
     "metadata": {},
     "output_type": "execute_result"
    }
   ],
   "source": [
    "m"
   ]
  },
  {
   "cell_type": "code",
   "execution_count": 23,
   "id": "c5a8e46a",
   "metadata": {},
   "outputs": [
    {
     "data": {
      "text/plain": [
       "array([[ True, False,  True, False],\n",
       "       [False, False, False,  True],\n",
       "       [False, False,  True, False],\n",
       "       [ True, False, False,  True]])"
      ]
     },
     "execution_count": 23,
     "metadata": {},
     "output_type": "execute_result"
    }
   ],
   "source": [
    "m > 5"
   ]
  },
  {
   "cell_type": "code",
   "execution_count": 33,
   "id": "f59b38cc",
   "metadata": {},
   "outputs": [],
   "source": [
    "m[m>5] += 2"
   ]
  },
  {
   "cell_type": "code",
   "execution_count": 34,
   "id": "16ed7698",
   "metadata": {},
   "outputs": [
    {
     "data": {
      "text/plain": [
       "array([[ 8,  1, 10,  4],\n",
       "       [ 2,  2,  3,  8],\n",
       "       [ 2,  1, 11,  4],\n",
       "       [ 9,  2,  2,  8]])"
      ]
     },
     "execution_count": 34,
     "metadata": {},
     "output_type": "execute_result"
    }
   ],
   "source": [
    "m"
   ]
  },
  {
   "cell_type": "markdown",
   "id": "e59a714e",
   "metadata": {},
   "source": [
    "## Array:\n",
    "\n",
    "+ `array.shape`\t\n",
    "+ `len(array)`\n",
    "+ `array.ndim\t`\n",
    "+ `array.size`\t\n",
    "+ `array.dtype`\t\n",
    "+ `array.astype(type)`\t\n",
    "\n",
    "\n",
    "+ `np.copy(array)`\t\n",
    "+ `other = array.copy()`\t\n",
    "+ `array.sort()`\n",
    "+ `array.sort(axis=0)`"
   ]
  },
  {
   "cell_type": "code",
   "execution_count": 35,
   "id": "33361a5a",
   "metadata": {},
   "outputs": [
    {
     "data": {
      "text/plain": [
       "(4, 4)"
      ]
     },
     "execution_count": 35,
     "metadata": {},
     "output_type": "execute_result"
    }
   ],
   "source": [
    "m.shape"
   ]
  },
  {
   "cell_type": "code",
   "execution_count": 36,
   "id": "15bb261b",
   "metadata": {},
   "outputs": [
    {
     "data": {
      "text/plain": [
       "2"
      ]
     },
     "execution_count": 36,
     "metadata": {},
     "output_type": "execute_result"
    }
   ],
   "source": [
    "m.ndim"
   ]
  },
  {
   "cell_type": "code",
   "execution_count": 37,
   "id": "0fe63392",
   "metadata": {},
   "outputs": [
    {
     "data": {
      "text/plain": [
       "16"
      ]
     },
     "execution_count": 37,
     "metadata": {},
     "output_type": "execute_result"
    }
   ],
   "source": [
    "m.size"
   ]
  },
  {
   "cell_type": "code",
   "execution_count": 38,
   "id": "9be8ea86",
   "metadata": {},
   "outputs": [
    {
     "data": {
      "text/plain": [
       "dtype('int64')"
      ]
     },
     "execution_count": 38,
     "metadata": {},
     "output_type": "execute_result"
    }
   ],
   "source": [
    "m.dtype"
   ]
  },
  {
   "cell_type": "code",
   "execution_count": 42,
   "id": "12cf2124",
   "metadata": {},
   "outputs": [],
   "source": [
    "m3 = m.copy()\n",
    "\n",
    "m3[:, 0] = -1"
   ]
  },
  {
   "cell_type": "code",
   "execution_count": 43,
   "id": "5734775a",
   "metadata": {},
   "outputs": [
    {
     "data": {
      "text/plain": [
       "array([[6, 0, 4, 1],\n",
       "       [8, 0, 5, 3],\n",
       "       [0, 7, 1, 9],\n",
       "       [0, 4, 5, 6]])"
      ]
     },
     "execution_count": 43,
     "metadata": {},
     "output_type": "execute_result"
    }
   ],
   "source": [
    "m"
   ]
  },
  {
   "cell_type": "code",
   "execution_count": 44,
   "id": "0d789dc8",
   "metadata": {},
   "outputs": [
    {
     "data": {
      "text/plain": [
       "array([[6, 0, 4, 1, 8, 0, 5, 3],\n",
       "       [0, 7, 1, 9, 0, 4, 5, 6]])"
      ]
     },
     "execution_count": 44,
     "metadata": {},
     "output_type": "execute_result"
    }
   ],
   "source": [
    "np.reshape(m, (2, 8))"
   ]
  },
  {
   "cell_type": "code",
   "execution_count": 45,
   "id": "e1f6f68a",
   "metadata": {},
   "outputs": [],
   "source": [
    "b = m.astype(np.int8)"
   ]
  },
  {
   "cell_type": "code",
   "execution_count": 46,
   "id": "1db96ece",
   "metadata": {},
   "outputs": [
    {
     "data": {
      "text/plain": [
       "dtype('int8')"
      ]
     },
     "execution_count": 46,
     "metadata": {},
     "output_type": "execute_result"
    }
   ],
   "source": [
    "b.dtype"
   ]
  },
  {
   "cell_type": "code",
   "execution_count": 55,
   "id": "4f237881",
   "metadata": {},
   "outputs": [],
   "source": [
    "np.random.seed(10)"
   ]
  },
  {
   "cell_type": "code",
   "execution_count": 58,
   "id": "317842a4",
   "metadata": {},
   "outputs": [],
   "source": [
    "x = np.random.randint(0, 10, (10, 5), )"
   ]
  },
  {
   "cell_type": "code",
   "execution_count": 59,
   "id": "ebd00cbb",
   "metadata": {},
   "outputs": [
    {
     "data": {
      "text/plain": [
       "array([[4, 7, 8, 8, 2],\n",
       "       [6, 2, 8, 8, 6],\n",
       "       [6, 5, 6, 0, 0],\n",
       "       [6, 9, 1, 8, 9],\n",
       "       [1, 2, 8, 9, 9],\n",
       "       [5, 0, 2, 7, 3],\n",
       "       [0, 4, 2, 0, 3],\n",
       "       [3, 1, 2, 5, 9],\n",
       "       [0, 1, 0, 1, 9],\n",
       "       [0, 9, 2, 1, 1]])"
      ]
     },
     "execution_count": 59,
     "metadata": {},
     "output_type": "execute_result"
    }
   ],
   "source": [
    "x"
   ]
  },
  {
   "cell_type": "code",
   "execution_count": 51,
   "id": "d8cb3526",
   "metadata": {},
   "outputs": [
    {
     "data": {
      "text/plain": [
       "3.88"
      ]
     },
     "execution_count": 51,
     "metadata": {},
     "output_type": "execute_result"
    }
   ],
   "source": [
    "x.mean()"
   ]
  },
  {
   "cell_type": "code",
   "execution_count": 53,
   "id": "60cb22f4",
   "metadata": {},
   "outputs": [
    {
     "data": {
      "text/plain": [
       "array([4.2, 3.3, 3.1, 4.7, 4.1])"
      ]
     },
     "execution_count": 53,
     "metadata": {},
     "output_type": "execute_result"
    }
   ],
   "source": [
    "x.mean(axis=0)"
   ]
  },
  {
   "cell_type": "code",
   "execution_count": 54,
   "id": "c7d921d1",
   "metadata": {},
   "outputs": [
    {
     "data": {
      "text/plain": [
       "array([1.8, 4.2, 2.4, 5.8, 3.8, 5. , 2.6, 4.4, 3.2, 5.6])"
      ]
     },
     "execution_count": 54,
     "metadata": {},
     "output_type": "execute_result"
    }
   ],
   "source": [
    "x.mean(axis=1)"
   ]
  },
  {
   "cell_type": "code",
   "execution_count": 60,
   "id": "d23f3efc",
   "metadata": {},
   "outputs": [
    {
     "data": {
      "text/plain": [
       "208"
      ]
     },
     "execution_count": 60,
     "metadata": {},
     "output_type": "execute_result"
    }
   ],
   "source": [
    "x.sum()"
   ]
  },
  {
   "cell_type": "code",
   "execution_count": 61,
   "id": "c0d54a43",
   "metadata": {},
   "outputs": [
    {
     "data": {
      "text/plain": [
       "array([31, 40, 39, 47, 51])"
      ]
     },
     "execution_count": 61,
     "metadata": {},
     "output_type": "execute_result"
    }
   ],
   "source": [
    "x.sum(axis=0)"
   ]
  },
  {
   "cell_type": "code",
   "execution_count": 62,
   "id": "ecad6df5",
   "metadata": {},
   "outputs": [
    {
     "data": {
      "text/plain": [
       "array([29, 30, 17, 33, 29, 17,  9, 20, 11, 13])"
      ]
     },
     "execution_count": 62,
     "metadata": {},
     "output_type": "execute_result"
    }
   ],
   "source": [
    "x.sum(axis=1)"
   ]
  },
  {
   "cell_type": "code",
   "execution_count": 63,
   "id": "3f0b5fd2",
   "metadata": {},
   "outputs": [
    {
     "data": {
      "text/plain": [
       "3.264107841355736"
      ]
     },
     "execution_count": 63,
     "metadata": {},
     "output_type": "execute_result"
    }
   ],
   "source": [
    "x.std()"
   ]
  },
  {
   "cell_type": "code",
   "execution_count": null,
   "id": "5cb7ddb7",
   "metadata": {},
   "outputs": [],
   "source": []
  },
  {
   "cell_type": "markdown",
   "id": "b2090f17",
   "metadata": {},
   "source": [
    "## Linerar algebra"
   ]
  },
  {
   "cell_type": "code",
   "execution_count": 70,
   "id": "9ab43e17",
   "metadata": {},
   "outputs": [],
   "source": [
    "v = np.random.randint(-10, 10, (10, ))"
   ]
  },
  {
   "cell_type": "code",
   "execution_count": 75,
   "id": "7961319a",
   "metadata": {},
   "outputs": [
    {
     "data": {
      "text/plain": [
       "(40, 40.0)"
      ]
     },
     "execution_count": 75,
     "metadata": {},
     "output_type": "execute_result"
    }
   ],
   "source": [
    "np.sum(np.abs(v)), np.linalg.norm(v, 1)"
   ]
  },
  {
   "cell_type": "code",
   "execution_count": 80,
   "id": "9de9ecb9",
   "metadata": {},
   "outputs": [
    {
     "data": {
      "text/plain": [
       "(14.7648230602334, 14.7648230602334)"
      ]
     },
     "execution_count": 80,
     "metadata": {},
     "output_type": "execute_result"
    }
   ],
   "source": [
    "np.sqrt(np.sum(v**2)), np.linalg.norm(v, 2)"
   ]
  },
  {
   "cell_type": "code",
   "execution_count": 84,
   "id": "52d9637d",
   "metadata": {},
   "outputs": [
    {
     "data": {
      "text/plain": [
       "(11.318511959629506, 11.318511959629506)"
      ]
     },
     "execution_count": 84,
     "metadata": {},
     "output_type": "execute_result"
    }
   ],
   "source": [
    "(np.sum(np.abs(v)**3))**(1/3), np.linalg.norm(v, 3)"
   ]
  },
  {
   "cell_type": "code",
   "execution_count": 86,
   "id": "3b1c0f14",
   "metadata": {},
   "outputs": [
    {
     "data": {
      "text/plain": [
       "321.9999999999998"
      ]
     },
     "execution_count": 86,
     "metadata": {},
     "output_type": "execute_result"
    }
   ],
   "source": [
    "np.linalg.det(m)"
   ]
  },
  {
   "cell_type": "code",
   "execution_count": null,
   "id": "019912a8",
   "metadata": {},
   "outputs": [],
   "source": [
    "# solve A x = b"
   ]
  },
  {
   "cell_type": "code",
   "execution_count": 90,
   "id": "77e6623d",
   "metadata": {},
   "outputs": [],
   "source": [
    "A = np.random.randint(0, 20, (6, 6))\n",
    "b = np.random.randint(-10, 10, (6, ))"
   ]
  },
  {
   "cell_type": "code",
   "execution_count": 91,
   "id": "c9ab8bae",
   "metadata": {},
   "outputs": [
    {
     "data": {
      "text/plain": [
       "array([[12, 17,  5, 18, 19,  5],\n",
       "       [12,  6,  8, 16, 10,  4],\n",
       "       [19,  9,  3,  3, 16, 11],\n",
       "       [ 9, 18, 19,  9, 17, 10],\n",
       "       [ 4,  0,  0, 10,  8, 17],\n",
       "       [13,  3,  0,  0,  6,  5]])"
      ]
     },
     "execution_count": 91,
     "metadata": {},
     "output_type": "execute_result"
    }
   ],
   "source": [
    "A"
   ]
  },
  {
   "cell_type": "code",
   "execution_count": 92,
   "id": "7d3bbace",
   "metadata": {},
   "outputs": [
    {
     "data": {
      "text/plain": [
       "array([  5,  -3, -10, -10,   8,  -8])"
      ]
     },
     "execution_count": 92,
     "metadata": {},
     "output_type": "execute_result"
    }
   ],
   "source": [
    "b"
   ]
  },
  {
   "cell_type": "code",
   "execution_count": 94,
   "id": "942bee79",
   "metadata": {},
   "outputs": [],
   "source": [
    "x_1 = np.linalg.inv(A) @ b"
   ]
  },
  {
   "cell_type": "code",
   "execution_count": 95,
   "id": "bbb008a9",
   "metadata": {},
   "outputs": [],
   "source": [
    "x_2 = np.linalg.solve(A, b)"
   ]
  },
  {
   "cell_type": "code",
   "execution_count": 96,
   "id": "714e75e9",
   "metadata": {},
   "outputs": [
    {
     "data": {
      "text/plain": [
       "array([-0.78698448,  0.34400955, -0.92337586,  0.68207309, -0.02027342,\n",
       "        0.26408202])"
      ]
     },
     "execution_count": 96,
     "metadata": {},
     "output_type": "execute_result"
    }
   ],
   "source": [
    "x_1"
   ]
  },
  {
   "cell_type": "code",
   "execution_count": 97,
   "id": "f68d64cc",
   "metadata": {},
   "outputs": [
    {
     "data": {
      "text/plain": [
       "array([-0.78698448,  0.34400955, -0.92337586,  0.68207309, -0.02027342,\n",
       "        0.26408202])"
      ]
     },
     "execution_count": 97,
     "metadata": {},
     "output_type": "execute_result"
    }
   ],
   "source": [
    "x_2"
   ]
  },
  {
   "cell_type": "code",
   "execution_count": 98,
   "id": "89e7a515",
   "metadata": {},
   "outputs": [
    {
     "data": {
      "text/plain": [
       "array([False, False, False, False, False, False])"
      ]
     },
     "execution_count": 98,
     "metadata": {},
     "output_type": "execute_result"
    }
   ],
   "source": [
    "x_1 == x_2"
   ]
  },
  {
   "cell_type": "code",
   "execution_count": 99,
   "id": "1b6a343c",
   "metadata": {},
   "outputs": [
    {
     "data": {
      "text/plain": [
       "array([ 6.66133815e-16, -4.99600361e-16,  1.11022302e-16,  1.11022302e-16,\n",
       "       -3.92047506e-16,  1.66533454e-16])"
      ]
     },
     "execution_count": 99,
     "metadata": {},
     "output_type": "execute_result"
    }
   ],
   "source": [
    "x_1 - x_2"
   ]
  },
  {
   "cell_type": "code",
   "execution_count": 105,
   "id": "88829c1b",
   "metadata": {},
   "outputs": [
    {
     "data": {
      "text/plain": [
       "array([ True,  True,  True,  True,  True,  True])"
      ]
     },
     "execution_count": 105,
     "metadata": {},
     "output_type": "execute_result"
    }
   ],
   "source": [
    "np.isclose(x_1, x_2)"
   ]
  },
  {
   "cell_type": "code",
   "execution_count": 113,
   "id": "6c6d92af",
   "metadata": {},
   "outputs": [
    {
     "data": {
      "text/plain": [
       "array([[ True, False, False, False, False, False],\n",
       "       [False,  True, False, False, False, False],\n",
       "       [False, False,  True, False, False, False],\n",
       "       [False, False, False,  True, False, False],\n",
       "       [False, False, False, False,  True, False],\n",
       "       [False,  True, False, False, False,  True]])"
      ]
     },
     "execution_count": 113,
     "metadata": {},
     "output_type": "execute_result"
    }
   ],
   "source": [
    "np.isclose(A @ np.linalg.inv(A), np.eye(6), atol=1e-17)"
   ]
  },
  {
   "cell_type": "code",
   "execution_count": 122,
   "id": "9074ec61",
   "metadata": {},
   "outputs": [],
   "source": [
    "a = 1.52345"
   ]
  },
  {
   "cell_type": "code",
   "execution_count": 126,
   "id": "118c216b",
   "metadata": {},
   "outputs": [
    {
     "data": {
      "text/plain": [
       "(1.53, 1.52, 1.52)"
      ]
     },
     "execution_count": 126,
     "metadata": {},
     "output_type": "execute_result"
    }
   ],
   "source": [
    "np.ceil(100*a)/100, np.floor(100*a)/100, np.round(100*a)/100"
   ]
  },
  {
   "cell_type": "code",
   "execution_count": 127,
   "id": "ccf0c237",
   "metadata": {},
   "outputs": [
    {
     "data": {
      "text/plain": [
       "1.523"
      ]
     },
     "execution_count": 127,
     "metadata": {},
     "output_type": "execute_result"
    }
   ],
   "source": [
    "np.round(a, decimals=3)"
   ]
  },
  {
   "cell_type": "code",
   "execution_count": null,
   "id": "6920bb4d",
   "metadata": {},
   "outputs": [],
   "source": []
  }
 ],
 "metadata": {
  "kernelspec": {
   "display_name": "Python 3 (ipykernel)",
   "language": "python",
   "name": "python3"
  },
  "language_info": {
   "codemirror_mode": {
    "name": "ipython",
    "version": 3
   },
   "file_extension": ".py",
   "mimetype": "text/x-python",
   "name": "python",
   "nbconvert_exporter": "python",
   "pygments_lexer": "ipython3",
   "version": "3.9.12"
  }
 },
 "nbformat": 4,
 "nbformat_minor": 5
}
